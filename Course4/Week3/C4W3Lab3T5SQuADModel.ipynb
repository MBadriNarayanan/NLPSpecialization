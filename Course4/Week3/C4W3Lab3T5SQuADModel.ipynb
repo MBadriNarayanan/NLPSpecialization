{
  "nbformat": 4,
  "nbformat_minor": 0,
  "metadata": {
    "accelerator": "GPU",
    "colab": {
      "name": "C4W3Lab3T5SQuADModel.ipynb",
      "provenance": [],
      "collapsed_sections": []
    },
    "kernelspec": {
      "name": "python3",
      "display_name": "Python 3"
    }
  },
  "cells": [
    {
      "cell_type": "markdown",
      "metadata": {
        "id": "7yuytuIllsv1"
      },
      "source": [
        "# Assignment 3, Part 2: T5 SQuAD Model \n",
        "\n",
        "Welcome to the part 2 of testing the models for this week's assignment. This time we will perform decoding using the T5 SQuAD model. In this notebook we'll perform Question Answering by providing a \"Question\", its \"Context\" and see how well we get the \"Target\" answer. \n",
        "\n",
        "## IMPORTANT\n",
        "\n",
        "- As you cannot save the changes you make to this colab, you have to make a copy of this notebook in your own drive and run that. You can do so by going to `File -> Save a copy in Drive`. Close this colab and open the copy which you have made in your own drive.\n",
        "\n",
        "- Go to this [google drive folder](https://drive.google.com/drive/folders/1rOZsbEzcpMRVvgrRULRh1JPFpkIG_JOz?usp=sharing) named `NLP C4 W3 Data`. In the folder, next to its name use the drop down menu to select `\"Add shortcut to Drive\" -> \"My Drive\" and then press ADD SHORTCUT`. This should add a shortcut to the folder `NLP C4 W3 Data` within your own google drive. Please make sure this happens, as you'll be reading the data for this notebook from this folder.\n",
        "\n",
        "- Make sure your runtime is GPU (_not_ CPU or TPU). And if it is an option, make sure you are using _Python 3_. You can select these settings by going to `Runtime -> Change runtime type -> Select the above mentioned settings and then press SAVE`"
      ]
    },
    {
      "cell_type": "markdown",
      "metadata": {
        "id": "Db6LQW5cMSgx"
      },
      "source": [
        "**Note: Restarting the runtime maybe required**.\n",
        "\n",
        "Colab will tell you if the restarting is necessary -- you can do this from the:\n",
        "\n",
        "Runtime > Restart Runtime\n",
        "\n",
        "option in the dropdown."
      ]
    },
    {
      "cell_type": "markdown",
      "metadata": {
        "id": "OTeAcYQo_4OW"
      },
      "source": [
        "## Outline\n",
        "\n",
        "- [Part 0: Downloading and loading dependencies](#0)\n",
        "- [Part 1: Mounting your drive for data accessibility](#1)\n",
        "- [Part 2: Getting things ready](#2)\n",
        "- [Part 3: Fine-tuning on SQuAD](#3)\n",
        "    - [3.1 Loading in the data and preprocessing](#3.1)\n",
        "    - [3.2 Decoding from a fine-tuned model](#3.2)"
      ]
    },
    {
      "cell_type": "markdown",
      "metadata": {
        "id": "ysxogfC1M158"
      },
      "source": [
        "<a name='0'></a>\n",
        "# Part 0: Downloading and loading dependencies\n",
        "\n",
        "Uncomment the code cell below and run it to download some dependencies that you will need. You need to download them once every time you open the colab. You can ignore the `kfac` error."
      ]
    },
    {
      "cell_type": "code",
      "metadata": {
        "id": "1BNZzCg0xv3R"
      },
      "source": [
        "!pip -q install trax"
      ],
      "execution_count": 1,
      "outputs": []
    },
    {
      "cell_type": "code",
      "metadata": {
        "id": "uDhi6qLQMHzs",
        "outputId": "baabde87-f9dd-4b90-8ee3-d6ea509f4042",
        "colab": {
          "base_uri": "https://localhost:8080/",
          "height": 35
        }
      },
      "source": [
        "import string\n",
        "import t5\n",
        "import numpy as np\n",
        "import trax \n",
        "from trax.supervised import decoding\n",
        "import textwrap \n",
        "# Will come handy later.\n",
        "wrapper = textwrap.TextWrapper(width=70)"
      ],
      "execution_count": 2,
      "outputs": [
        {
          "output_type": "stream",
          "text": [
            "INFO:tensorflow:tokens_length=568 inputs_length=512 targets_length=114 noise_density=0.15 mean_noise_span_length=3.0 \n"
          ],
          "name": "stdout"
        }
      ]
    },
    {
      "cell_type": "markdown",
      "metadata": {
        "id": "Cwr7LoXwQUW5"
      },
      "source": [
        "<a name='1'></a>\n",
        "# Part 1: Mounting your drive for data accessibility\n",
        "\n",
        "Run the code cell below and follow the instructions to mount your drive. The data is the same as used in the coursera version of the assignment."
      ]
    },
    {
      "cell_type": "code",
      "metadata": {
        "id": "P7ZF7KiXzQEg",
        "outputId": "131234f7-2814-410d-8f02-4353633f2a49",
        "colab": {
          "base_uri": "https://localhost:8080/",
          "height": 35
        }
      },
      "source": [
        "from google.colab import drive\n",
        "drive.mount('/content/drive/', force_remount=True)"
      ],
      "execution_count": 3,
      "outputs": [
        {
          "output_type": "stream",
          "text": [
            "Mounted at /content/drive/\n"
          ],
          "name": "stdout"
        }
      ]
    },
    {
      "cell_type": "markdown",
      "metadata": {
        "id": "HuTyft5EBQK6"
      },
      "source": [
        "<a name='2'></a>\n",
        "# Part 2: Getting things ready \n",
        "\n",
        "Run the code cell below to ready some functions which will later help us in decoding. The code and the functions are the same as the ones you previsouly ran on the coursera version of the assignment."
      ]
    },
    {
      "cell_type": "code",
      "metadata": {
        "id": "LJ8s_xZ1QtkI"
      },
      "source": [
        "PAD, EOS, UNK = 0, 1, 2\n",
        "\n",
        "def detokenize(np_array):\n",
        "  return trax.data.detokenize(\n",
        "      np_array,\n",
        "      vocab_type='sentencepiece',\n",
        "      vocab_file='sentencepiece.model',\n",
        "      vocab_dir='/content/drive/My Drive/NLP C4 W3 Data/')\n",
        "\n",
        "def tokenize(s):\n",
        "  # The trax.data.tokenize function operates on streams,\n",
        "  # that's why we have to create 1-element stream with iter\n",
        "  # and later retrieve the result with next.\n",
        "  return next(trax.data.tokenize(\n",
        "      iter([s]),\n",
        "      vocab_type='sentencepiece',\n",
        "      vocab_file='sentencepiece.model',\n",
        "      vocab_dir='/content/drive/My Drive/NLP C4 W3 Data/'))\n",
        " \n",
        "vocab_size = trax.data.vocab_size(\n",
        "    vocab_type='sentencepiece',\n",
        "    vocab_file='sentencepiece.model',\n",
        "    vocab_dir='/content/drive/My Drive/NLP C4 W3 Data/')\n",
        "\n",
        "def get_sentinels(vocab_size):\n",
        "    sentinels = {}\n",
        "\n",
        "    for i, char in enumerate(reversed(string.ascii_letters), 1):\n",
        "\n",
        "        decoded_text = detokenize([vocab_size - i]) \n",
        "        \n",
        "        # Sentinels, ex: <Z> - <a>\n",
        "        sentinels[decoded_text] = f'<{char}>'\n",
        "        \n",
        "    return sentinels\n",
        "\n",
        "sentinels = get_sentinels(vocab_size)    \n",
        "\n",
        "\n",
        "def pretty_decode(encoded_str_list, sentinels=sentinels):\n",
        "    # If already a string, just do the replacements.\n",
        "    if isinstance(encoded_str_list, (str, bytes)):\n",
        "        for token, char in sentinels.items():\n",
        "            encoded_str_list = encoded_str_list.replace(token, char)\n",
        "        return encoded_str_list\n",
        "  \n",
        "    # We need to decode and then prettyfy it.\n",
        "    return pretty_decode(detokenize(encoded_str_list))    "
      ],
      "execution_count": 4,
      "outputs": []
    },
    {
      "cell_type": "markdown",
      "metadata": {
        "id": "HEoSSKNwgDVA"
      },
      "source": [
        "<a name='3'></a>\n",
        "# Part 3: Fine-tuning on SQuAD\n",
        "\n",
        "Now let's try to fine tune on SQuAD and see what becomes of the model. For this, we need to write a function that will create and process the SQuAD `tf.data.Dataset`. Below is how T5 pre-processes SQuAD dataset as a text2text example. Before we jump in, we will have to first load in the data. \n",
        "\n",
        "<a name='3.1'></a>\n",
        "### 3.1 Loading in the data and preprocessing\n",
        "\n",
        "You first start by loading in the dataset. The text2text example for a SQuAD example looks like:\n",
        "\n",
        "```\n",
        "{\n",
        "  'inputs': 'question: <question> context: <article>',\n",
        "  'targets': '<answer_0>',\n",
        "}\n",
        "```\n",
        "\n",
        "The squad pre-processing function takes in the dataset and processes it using the sentencePiece vocabulary you have seen above. It generates the features from the vocab and encodes the string features. It takes on question, context, and answer, and returns \"question: Q context: C\" as input and \"A\" as target."
      ]
    },
    {
      "cell_type": "code",
      "metadata": {
        "id": "RcdR5Dh9UVEw"
      },
      "source": [
        "# Retrieve Question, C, A and return \"question: Q context: C\" as input and \"A\" as target.\n",
        "def squad_preprocess_fn(dataset, mode='train'):\n",
        "  return t5.data.preprocessors.squad(dataset)"
      ],
      "execution_count": 5,
      "outputs": []
    },
    {
      "cell_type": "code",
      "metadata": {
        "id": "0NCIejwexv4x",
        "outputId": "f4b8f73c-5937-4595-af32-d9ca8089a86c",
        "colab": {
          "base_uri": "https://localhost:8080/",
          "height": 74
        }
      },
      "source": [
        "# train generator, this takes about 1 minute\n",
        "train_generator_fn, eval_generator_fn = trax.data.tf_inputs.data_streams(\n",
        "  'squad/v1.1:2.0.0',\n",
        "  data_dir='/content/drive/My Drive/NLP C4 W3 Data/data/',\n",
        "  bare_preprocess_fn=squad_preprocess_fn,\n",
        "  input_name='inputs',\n",
        "  target_name='targets'\n",
        ")\n",
        "train_generator = train_generator_fn()\n",
        "next(train_generator)"
      ],
      "execution_count": 6,
      "outputs": [
        {
          "output_type": "execute_result",
          "data": {
            "text/plain": [
              "(b'question: What was the name of the official who blocked UNFPA funding ? context: President Bush denied funding to the UNFPA . Over the course of the Bush Administration , a total of $ 244 million in Congressionally approved funding was blocked by the Executive Branch . ',\n",
              " b'Bush')"
            ]
          },
          "metadata": {
            "tags": []
          },
          "execution_count": 6
        }
      ]
    },
    {
      "cell_type": "code",
      "metadata": {
        "id": "QGQsExH8xv40",
        "outputId": "432c7b39-4c95-43d3-cac7-523b20d0edbb",
        "colab": {
          "base_uri": "https://localhost:8080/",
          "height": 128
        }
      },
      "source": [
        "#print example from train_generator\n",
        "(inp, out) = next(train_generator)\n",
        "print(inp.decode('utf8').split('context:')[0])\n",
        "print()\n",
        "print('context:', inp.decode('utf8').split('context:')[1])\n",
        "print()\n",
        "print('target:', out.decode('utf8'))"
      ],
      "execution_count": 7,
      "outputs": [
        {
          "output_type": "stream",
          "text": [
            "question: Why does this difficulty occur ? \n",
            "\n",
            "context:  There are both practical and theoretical difficulties in determining h . The practical difficulties can be illustrated by the fact that the two most accurate methods , the watt balance and the X - ray crystal density method , do not appear to agree with one another . The most likely reason is that the measurement uncertainty for one ( or both ) of the methods has been estimated too low – it is ( or they are ) not as precise as is currently believed – but for the time being there is no indication which method is at fault . \n",
            "\n",
            "target: it is ( or they are ) not as precise as is currently believed\n"
          ],
          "name": "stdout"
        }
      ]
    },
    {
      "cell_type": "markdown",
      "metadata": {
        "id": "F_eGJHpPh-rz"
      },
      "source": [
        "<a name='3.2'></a>\n",
        "### 3.2 Decoding from a fine-tuned model\n",
        "\n",
        "You will now use an existing model that we trained for you. You will initialize, then load in your model, and then try with your own input. "
      ]
    },
    {
      "cell_type": "code",
      "metadata": {
        "id": "dZztX5XLa01p"
      },
      "source": [
        "# Initialize the model \n",
        "model = trax.models.Transformer(\n",
        "    d_ff = 4096,\n",
        "    d_model = 1024,\n",
        "    max_len = 2048,\n",
        "    n_heads = 16,\n",
        "    dropout = 0.1,\n",
        "    input_vocab_size = 32000,\n",
        "    n_encoder_layers = 24,\n",
        "    n_decoder_layers = 24,\n",
        "    mode='predict')  # Change to 'eval' for slow decoding."
      ],
      "execution_count": 8,
      "outputs": []
    },
    {
      "cell_type": "code",
      "metadata": {
        "id": "OQRAGG2fnSMe"
      },
      "source": [
        "# load in the model\n",
        "# this will take a minute\n",
        "shape11 = trax.shapes.ShapeDtype((1, 1), dtype=np.int32)\n",
        "model.init_from_file('/content/drive/My Drive/NLP C4 W3 Data/models/model_squad.pkl.gz',\n",
        "                     weights_only=True, input_signature=(shape11, shape11))"
      ],
      "execution_count": 9,
      "outputs": []
    },
    {
      "cell_type": "code",
      "metadata": {
        "id": "l33umWrRyYNm"
      },
      "source": [
        "# Uncomment to see the transformer's structure.\n",
        "# print(model)"
      ],
      "execution_count": 10,
      "outputs": []
    },
    {
      "cell_type": "code",
      "metadata": {
        "id": "zzrxtGGDuUkc"
      },
      "source": [
        "# create inputs\n",
        "# a simple example \n",
        "# inputs = 'question: She asked him where is john? context: John was at the game'\n",
        "\n",
        "# an extensive example\n",
        "inputs = 'question: What are some of the colours of a rose? context: A rose is a woody perennial flowering plant of the genus Rosa, in the family Rosaceae, or the flower it bears.There are over three hundred species and tens of thousands of cultivars. They form a group of plants that can be erect shrubs, climbing, or trailing, with stems that are often armed with sharp prickles. Flowers vary in size and shape and are usually large and showy, in colours ranging from white through yellows and reds. Most species are native to Asia, with smaller numbers native to Europe, North America, and northwestern Africa. Species, cultivars and hybrids are all widely grown for their beauty and often are fragrant.'"
      ],
      "execution_count": 11,
      "outputs": []
    },
    {
      "cell_type": "code",
      "metadata": {
        "id": "nVlu-iwHcZRY",
        "outputId": "01a1ebc4-85b9-4225-cd78-19b38689e277",
        "colab": {
          "base_uri": "https://localhost:8080/",
          "height": 290
        }
      },
      "source": [
        "# tokenizing the input so we could feed it for decoding\n",
        "print(tokenize(inputs))\n",
        "test_inputs = tokenize(inputs) "
      ],
      "execution_count": 12,
      "outputs": [
        {
          "output_type": "stream",
          "text": [
            "[  822    10   363    33   128    13     8  6548    13     3     9  4659\n",
            "    58  2625    10    71  4659    19     3     9  1679    63 24999  5624\n",
            "    53  1475    13     8     3   729   302 15641     6    16     8   384\n",
            " 15641  8433    15     6    42     8  5624    34  4595     7     5  7238\n",
            "    33   147   386  6189  3244    11     3   324     7    13  2909    13\n",
            " 10357   291     7     5   328   607     3     9   563    13  2677    24\n",
            "    54    36     3    15 12621 21675     7     6 11908     6    42  5032\n",
            "    53     6    28  6269     7    24    33   557     3  8715    28  4816\n",
            "     3  2246 19376     7     5 20294  5215    16   812    11  2346    11\n",
            "    33  1086   508    11   504    63     6    16  6548     3  6836    45\n",
            "   872   190  4459     7    11  1131     7     5  1377  3244    33  4262\n",
            "    12  3826     6    28  2755  2302  4262    12  1740     6  1117  1371\n",
            "     6    11  3457 24411  2648     5     3  7727   725     6 10357   291\n",
            "     7    11  9279     7    33    66  5456  4503    21    70  2790    11\n",
            "   557    33 29346     5]\n"
          ],
          "name": "stdout"
        }
      ]
    },
    {
      "cell_type": "code",
      "metadata": {
        "id": "PJh_Qw9G5jND",
        "outputId": "c0e16970-4a4d-48b2-ff68-3c45e21a5c07",
        "colab": {
          "base_uri": "https://localhost:8080/",
          "height": 35
        }
      },
      "source": [
        "# Temperature is a parameter for sampling.\n",
        "#   # * 0.0: same as argmax, always pick the most probable token\n",
        "#   # * 1.0: sampling from the distribution (can sometimes say random things)\n",
        "#   # * values inbetween can trade off diversity and quality, try it out!\n",
        "output = decoding.autoregressive_sample(model, inputs=np.array(test_inputs)[None, :],\n",
        "                                        temperature=0.0, max_length=10)\n",
        "print(wrapper.fill(pretty_decode(output[0])))"
      ],
      "execution_count": 13,
      "outputs": [
        {
          "output_type": "stream",
          "text": [
            "white through yellows and reds\n"
          ],
          "name": "stdout"
        }
      ]
    },
    {
      "cell_type": "markdown",
      "metadata": {
        "id": "BadBty9C-8wY"
      },
      "source": [
        "### Note: As you can see the RAM is almost full, it is because the model and the decoding is memory heavy. You can run decoding just once. Running it the second time with another example might give you the same answer as before, or not run at all (crash). If that happens restart the runtime (see how to at the start of the notebook) and run all the cells again."
      ]
    }
  ]
}